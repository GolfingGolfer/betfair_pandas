{
 "metadata": {
  "name": "sample1"
 },
 "nbformat": 3,
 "nbformat_minor": 0,
 "worksheets": [
  {
   "cells": [
    {
     "cell_type": "code",
     "collapsed": false,
     "input": [
      "from betfair.models import MarketFilter\n",
      "from betfair import Betfair"
     ],
     "language": "python",
     "metadata": {},
     "outputs": [],
     "prompt_number": 1
    },
    {
     "cell_type": "code",
     "collapsed": false,
     "input": [
      "import betfair_pandas as bp\n",
      "import datetime\n",
      "import pandas as pd"
     ],
     "language": "python",
     "metadata": {},
     "outputs": [],
     "prompt_number": 2
    },
    {
     "cell_type": "code",
     "collapsed": false,
     "input": [
      "# ssologin\n",
      "# To use this you will need app_key,cert_file,username,password\n",
      "client=Betfair(app_key,cert_file)\n",
      "client.login(username,password)"
     ],
     "language": "python",
     "metadata": {},
     "outputs": [],
     "prompt_number": 129
    },
    {
     "cell_type": "code",
     "collapsed": false,
     "input": [
      "# List horse racing event ids\n",
      "event_types=bp.list_event_types(client,filter={'textQuery':\"Horse Racing\"})"
     ],
     "language": "python",
     "metadata": {},
     "outputs": [],
     "prompt_number": 6
    },
    {
     "cell_type": "code",
     "collapsed": false,
     "input": [
      "country_code='GB'\n",
      "marketFilter={'eventTypeIds':[event_types.id[0]],\n",
      "              'marketCountries':[country_code],\n",
      "              'marketTypeCodes':[\"WIN\"],\n",
      "              'marketStartTime':{'from':datetime.datetime.now()}}"
     ],
     "language": "python",
     "metadata": {},
     "outputs": [],
     "prompt_number": 46
    },
    {
     "cell_type": "code",
     "collapsed": false,
     "input": [
      "# First 5 horse races, win market, from now\n",
      "races=bp.list_market_catalogue(client,\n",
      "  filter=marketFilter,\n",
      "  market_projection=['COMPETITION','EVENT','EVENT_TYPE','MARKET_DESCRIPTION','RUNNER_DESCRIPTION','MARKET_START_TIME'],\n",
      "  sort=\"FIRST_TO_START\",\n",
      "  max_results=5\n",
      ")"
     ],
     "language": "python",
     "metadata": {},
     "outputs": [],
     "prompt_number": 47
    },
    {
     "cell_type": "code",
     "collapsed": false,
     "input": [
      "# Get a summary set of columns for winHorseRacing from description\n",
      "summaryDesc=races['description'][['marketId','marketName','event.venue','event.name','marketStartTime']]\n",
      "# Get a summary set of the runners names\n",
      "summaryRunners=races['runners'][['marketId','selectionId','runnerName']]\n",
      "# Join the 2 together baes on the marketId to show summary of the runners in the races together\n",
      "summaryRaces=pd.merge(summaryDesc,summaryRunners,on='marketId')"
     ],
     "language": "python",
     "metadata": {},
     "outputs": [],
     "prompt_number": 114
    },
    {
     "cell_type": "code",
     "collapsed": false,
     "input": [
      "# First race\n",
      "marketId=races['description'].marketId[0]"
     ],
     "language": "python",
     "metadata": {},
     "outputs": [],
     "prompt_number": 48
    },
    {
     "cell_type": "code",
     "collapsed": false,
     "input": [
      "# First race summary\n",
      "firstRace=summaryRaces.query('marketId==\"'+marketId+'\"')\n",
      "firstRace"
     ],
     "language": "python",
     "metadata": {},
     "outputs": [
      {
       "html": [
        "<div style=\"max-height:1000px;max-width:1500px;overflow:auto;\">\n",
        "<table border=\"1\" class=\"dataframe\">\n",
        "  <thead>\n",
        "    <tr style=\"text-align: right;\">\n",
        "      <th></th>\n",
        "      <th>marketId</th>\n",
        "      <th>marketName</th>\n",
        "      <th>event.venue</th>\n",
        "      <th>event.name</th>\n",
        "      <th>marketStartTime</th>\n",
        "      <th>selectionId</th>\n",
        "      <th>runnerName</th>\n",
        "    </tr>\n",
        "  </thead>\n",
        "  <tbody>\n",
        "    <tr>\n",
        "      <th>0</th>\n",
        "      <td> 1.116406554</td>\n",
        "      <td> 2m Nov Hrd</td>\n",
        "      <td> Plumpton</td>\n",
        "      <td> Plump 17th Nov</td>\n",
        "      <td> 2014-11-17T13:00:00.000Z</td>\n",
        "      <td> 6865392</td>\n",
        "      <td>           Seedling</td>\n",
        "    </tr>\n",
        "    <tr>\n",
        "      <th>1</th>\n",
        "      <td> 1.116406554</td>\n",
        "      <td> 2m Nov Hrd</td>\n",
        "      <td> Plumpton</td>\n",
        "      <td> Plump 17th Nov</td>\n",
        "      <td> 2014-11-17T13:00:00.000Z</td>\n",
        "      <td> 7633363</td>\n",
        "      <td>          As De Mee</td>\n",
        "    </tr>\n",
        "    <tr>\n",
        "      <th>2</th>\n",
        "      <td> 1.116406554</td>\n",
        "      <td> 2m Nov Hrd</td>\n",
        "      <td> Plumpton</td>\n",
        "      <td> Plump 17th Nov</td>\n",
        "      <td> 2014-11-17T13:00:00.000Z</td>\n",
        "      <td> 9002287</td>\n",
        "      <td>       Stars Royale</td>\n",
        "    </tr>\n",
        "    <tr>\n",
        "      <th>3</th>\n",
        "      <td> 1.116406554</td>\n",
        "      <td> 2m Nov Hrd</td>\n",
        "      <td> Plumpton</td>\n",
        "      <td> Plump 17th Nov</td>\n",
        "      <td> 2014-11-17T13:00:00.000Z</td>\n",
        "      <td> 1119547</td>\n",
        "      <td>           Sea Wall</td>\n",
        "    </tr>\n",
        "    <tr>\n",
        "      <th>4</th>\n",
        "      <td> 1.116406554</td>\n",
        "      <td> 2m Nov Hrd</td>\n",
        "      <td> Plumpton</td>\n",
        "      <td> Plump 17th Nov</td>\n",
        "      <td> 2014-11-17T13:00:00.000Z</td>\n",
        "      <td> 8199435</td>\n",
        "      <td> The Geegeez Geegee</td>\n",
        "    </tr>\n",
        "    <tr>\n",
        "      <th>5</th>\n",
        "      <td> 1.116406554</td>\n",
        "      <td> 2m Nov Hrd</td>\n",
        "      <td> Plumpton</td>\n",
        "      <td> Plump 17th Nov</td>\n",
        "      <td> 2014-11-17T13:00:00.000Z</td>\n",
        "      <td> 6251329</td>\n",
        "      <td>           Dellbuoy</td>\n",
        "    </tr>\n",
        "    <tr>\n",
        "      <th>6</th>\n",
        "      <td> 1.116406554</td>\n",
        "      <td> 2m Nov Hrd</td>\n",
        "      <td> Plumpton</td>\n",
        "      <td> Plump 17th Nov</td>\n",
        "      <td> 2014-11-17T13:00:00.000Z</td>\n",
        "      <td> 8930741</td>\n",
        "      <td>  Knockyoursocksoff</td>\n",
        "    </tr>\n",
        "    <tr>\n",
        "      <th>7</th>\n",
        "      <td> 1.116406554</td>\n",
        "      <td> 2m Nov Hrd</td>\n",
        "      <td> Plumpton</td>\n",
        "      <td> Plump 17th Nov</td>\n",
        "      <td> 2014-11-17T13:00:00.000Z</td>\n",
        "      <td> 7192335</td>\n",
        "      <td>     Master Vintage</td>\n",
        "    </tr>\n",
        "    <tr>\n",
        "      <th>8</th>\n",
        "      <td> 1.116406554</td>\n",
        "      <td> 2m Nov Hrd</td>\n",
        "      <td> Plumpton</td>\n",
        "      <td> Plump 17th Nov</td>\n",
        "      <td> 2014-11-17T13:00:00.000Z</td>\n",
        "      <td> 7323360</td>\n",
        "      <td>          Al Guwair</td>\n",
        "    </tr>\n",
        "    <tr>\n",
        "      <th>9</th>\n",
        "      <td> 1.116406554</td>\n",
        "      <td> 2m Nov Hrd</td>\n",
        "      <td> Plumpton</td>\n",
        "      <td> Plump 17th Nov</td>\n",
        "      <td> 2014-11-17T13:00:00.000Z</td>\n",
        "      <td> 6365550</td>\n",
        "      <td>        Epsom Flyer</td>\n",
        "    </tr>\n",
        "  </tbody>\n",
        "</table>\n",
        "</div>"
       ],
       "output_type": "pyout",
       "prompt_number": 120,
       "text": [
        "      marketId  marketName event.venue      event.name  \\\n",
        "0  1.116406554  2m Nov Hrd    Plumpton  Plump 17th Nov   \n",
        "1  1.116406554  2m Nov Hrd    Plumpton  Plump 17th Nov   \n",
        "2  1.116406554  2m Nov Hrd    Plumpton  Plump 17th Nov   \n",
        "3  1.116406554  2m Nov Hrd    Plumpton  Plump 17th Nov   \n",
        "4  1.116406554  2m Nov Hrd    Plumpton  Plump 17th Nov   \n",
        "5  1.116406554  2m Nov Hrd    Plumpton  Plump 17th Nov   \n",
        "6  1.116406554  2m Nov Hrd    Plumpton  Plump 17th Nov   \n",
        "7  1.116406554  2m Nov Hrd    Plumpton  Plump 17th Nov   \n",
        "8  1.116406554  2m Nov Hrd    Plumpton  Plump 17th Nov   \n",
        "9  1.116406554  2m Nov Hrd    Plumpton  Plump 17th Nov   \n",
        "\n",
        "            marketStartTime  selectionId          runnerName  \n",
        "0  2014-11-17T13:00:00.000Z      6865392            Seedling  \n",
        "1  2014-11-17T13:00:00.000Z      7633363           As De Mee  \n",
        "2  2014-11-17T13:00:00.000Z      9002287        Stars Royale  \n",
        "3  2014-11-17T13:00:00.000Z      1119547            Sea Wall  \n",
        "4  2014-11-17T13:00:00.000Z      8199435  The Geegeez Geegee  \n",
        "5  2014-11-17T13:00:00.000Z      6251329            Dellbuoy  \n",
        "6  2014-11-17T13:00:00.000Z      8930741   Knockyoursocksoff  \n",
        "7  2014-11-17T13:00:00.000Z      7192335      Master Vintage  \n",
        "8  2014-11-17T13:00:00.000Z      7323360           Al Guwair  \n",
        "9  2014-11-17T13:00:00.000Z      6365550         Epsom Flyer  "
       ]
      }
     ],
     "prompt_number": 120
    },
    {
     "cell_type": "code",
     "collapsed": false,
     "input": [
      "# All exchange and starting prices to a depth of 2 max price of 20\n",
      "projection={'priceData':['EX_BEST_OFFERS','SP_AVAILABLE','SP_TRADED'],\n",
      "            'virtualise':False,\n",
      "            'exBestOffersOverrides':{'bestPricesDepth':2L,\n",
      "                                     'rollupModel':\"STAKE\",\n",
      "                                     'rollupLimit':20L},\n",
      "            'rolloverStakes':False\n",
      " }"
     ],
     "language": "python",
     "metadata": {},
     "outputs": [],
     "prompt_number": 52
    },
    {
     "cell_type": "code",
     "collapsed": false,
     "input": [
      "# Get all the runners/prices book for this market\n",
      "# According to the projections\n",
      "runnersPriceInFirstRace=bp.list_market_book(client,\n",
      "  market_ids=[marketId],\n",
      "  price_projection=projection,\n",
      "  order_projection='ALL',\n",
      "  match_projection='ROLLED_UP_BY_PRICE'\n",
      ")"
     ],
     "language": "python",
     "metadata": {},
     "outputs": [],
     "prompt_number": 53
    },
    {
     "cell_type": "code",
     "collapsed": false,
     "input": [
      "runnersPriceInFirstRace['market.book'][['marketId','lastMatchTime','totalAvailable','totalMatched','numberOfActiveRunners']]"
     ],
     "language": "python",
     "metadata": {},
     "outputs": [
      {
       "html": [
        "<div style=\"max-height:1000px;max-width:1500px;overflow:auto;\">\n",
        "<table border=\"1\" class=\"dataframe\">\n",
        "  <thead>\n",
        "    <tr style=\"text-align: right;\">\n",
        "      <th></th>\n",
        "      <th>marketId</th>\n",
        "      <th>lastMatchTime</th>\n",
        "      <th>totalAvailable</th>\n",
        "      <th>totalMatched</th>\n",
        "      <th>numberOfActiveRunners</th>\n",
        "    </tr>\n",
        "  </thead>\n",
        "  <tbody>\n",
        "    <tr>\n",
        "      <th>0</th>\n",
        "      <td> 1.116406554</td>\n",
        "      <td> 2014-11-17T12:59:43.886Z</td>\n",
        "      <td> 266490.09</td>\n",
        "      <td> 724222.82</td>\n",
        "      <td> 10</td>\n",
        "    </tr>\n",
        "  </tbody>\n",
        "</table>\n",
        "</div>"
       ],
       "output_type": "pyout",
       "prompt_number": 55,
       "text": [
        "      marketId             lastMatchTime  totalAvailable  totalMatched  \\\n",
        "0  1.116406554  2014-11-17T12:59:43.886Z       266490.09     724222.82   \n",
        "\n",
        "   numberOfActiveRunners  \n",
        "0                     10  "
       ]
      }
     ],
     "prompt_number": 55
    },
    {
     "cell_type": "code",
     "collapsed": false,
     "input": [
      "runnerWithMostTotalMatched=runnersPriceInFirstRace['runners'].sort('totalMatched',ascending=False)"
     ],
     "language": "python",
     "metadata": {},
     "outputs": [],
     "prompt_number": 56
    },
    {
     "cell_type": "code",
     "collapsed": false,
     "input": [
      "# This is one particular runner\n",
      "runnerIdWithMostTotalMatched=runnerWithMostTotalMatched.ix[0,'selectionId']"
     ],
     "language": "python",
     "metadata": {},
     "outputs": [],
     "prompt_number": 59
    },
    {
     "cell_type": "code",
     "collapsed": false,
     "input": [
      "# Getthe overview price and volume for this selection\n",
      "runners=runnersPriceInFirstRace['runners']\n",
      "overview=runners[runners.selectionId==runnerIdWithMostTotalMatched]"
     ],
     "language": "python",
     "metadata": {},
     "outputs": [],
     "prompt_number": 67
    },
    {
     "cell_type": "code",
     "collapsed": false,
     "input": [
      "# Show the overview price and volume for this selected runner\n",
      "pd.merge(overview,firstRace[['selectionId','marketId','runnerName']],on=['selectionId','marketId'])"
     ],
     "language": "python",
     "metadata": {},
     "outputs": [
      {
       "html": [
        "<div style=\"max-height:1000px;max-width:1500px;overflow:auto;\">\n",
        "<table border=\"1\" class=\"dataframe\">\n",
        "  <thead>\n",
        "    <tr style=\"text-align: right;\">\n",
        "      <th></th>\n",
        "      <th>adjustmentFactor</th>\n",
        "      <th>handicap</th>\n",
        "      <th>lastPriceTraded</th>\n",
        "      <th>marketId</th>\n",
        "      <th>selectionId</th>\n",
        "      <th>status</th>\n",
        "      <th>totalMatched</th>\n",
        "      <th>runnerName</th>\n",
        "    </tr>\n",
        "  </thead>\n",
        "  <tbody>\n",
        "    <tr>\n",
        "      <th>0</th>\n",
        "      <td> 73.5</td>\n",
        "      <td> 0</td>\n",
        "      <td> 1.22</td>\n",
        "      <td> 1.116406554</td>\n",
        "      <td> 6865392</td>\n",
        "      <td> ACTIVE</td>\n",
        "      <td> 643910.59</td>\n",
        "      <td> Seedling</td>\n",
        "    </tr>\n",
        "  </tbody>\n",
        "</table>\n",
        "</div>"
       ],
       "output_type": "pyout",
       "prompt_number": 127,
       "text": [
        "   adjustmentFactor  handicap  lastPriceTraded     marketId  selectionId  \\\n",
        "0              73.5         0             1.22  1.116406554      6865392   \n",
        "\n",
        "   status  totalMatched runnerName  \n",
        "0  ACTIVE     643910.59   Seedling  "
       ]
      }
     ],
     "prompt_number": 127
    },
    {
     "cell_type": "code",
     "collapsed": false,
     "input": [
      "allsp=runnersPriceInFirstRace['runners.sp']\n",
      "sp=allsp[allsp.selectionId==runnerIdWithMostTotalMatched]"
     ],
     "language": "python",
     "metadata": {},
     "outputs": [],
     "prompt_number": 74
    },
    {
     "cell_type": "code",
     "collapsed": false,
     "input": [
      "# Show starting price summary\n",
      "sp"
     ],
     "language": "python",
     "metadata": {},
     "outputs": [
      {
       "html": [
        "<div style=\"max-height:1000px;max-width:1500px;overflow:auto;\">\n",
        "<table border=\"1\" class=\"dataframe\">\n",
        "  <thead>\n",
        "    <tr style=\"text-align: right;\">\n",
        "      <th></th>\n",
        "      <th>farPrice</th>\n",
        "      <th>marketId</th>\n",
        "      <th>nearPrice</th>\n",
        "      <th>selectionId</th>\n",
        "    </tr>\n",
        "  </thead>\n",
        "  <tbody>\n",
        "    <tr>\n",
        "      <th>0</th>\n",
        "      <td> 1.047462</td>\n",
        "      <td> 1.116406554</td>\n",
        "      <td> 1.2</td>\n",
        "      <td> 6865392</td>\n",
        "    </tr>\n",
        "  </tbody>\n",
        "</table>\n",
        "</div>"
       ],
       "output_type": "pyout",
       "prompt_number": 88,
       "text": [
        "   farPrice     marketId  nearPrice  selectionId\n",
        "0  1.047462  1.116406554        1.2      6865392"
       ]
      }
     ],
     "prompt_number": 88
    },
    {
     "cell_type": "code",
     "collapsed": false,
     "input": [
      "# Show back stake taken\n",
      "backStakeTaken=runnersPriceInFirstRace['runners.sp.backStakeTaken']\n",
      "backStakeTaken[backStakeTaken.selectionId==runnerIdWithMostTotalMatched]"
     ],
     "language": "python",
     "metadata": {},
     "outputs": [
      {
       "html": [
        "<div style=\"max-height:1000px;max-width:1500px;overflow:auto;\">\n",
        "<table border=\"1\" class=\"dataframe\">\n",
        "  <thead>\n",
        "    <tr style=\"text-align: right;\">\n",
        "      <th></th>\n",
        "      <th>marketId</th>\n",
        "      <th>price</th>\n",
        "      <th>selectionId</th>\n",
        "      <th>size</th>\n",
        "    </tr>\n",
        "  </thead>\n",
        "  <tbody>\n",
        "    <tr>\n",
        "      <th>0</th>\n",
        "      <td> 1.116406554</td>\n",
        "      <td> 1.01</td>\n",
        "      <td> 6865392</td>\n",
        "      <td> 7574.55</td>\n",
        "    </tr>\n",
        "    <tr>\n",
        "      <th>1</th>\n",
        "      <td> 1.116406554</td>\n",
        "      <td> 1.20</td>\n",
        "      <td> 6865392</td>\n",
        "      <td>    4.01</td>\n",
        "    </tr>\n",
        "    <tr>\n",
        "      <th>2</th>\n",
        "      <td> 1.116406554</td>\n",
        "      <td> 1.33</td>\n",
        "      <td> 6865392</td>\n",
        "      <td>    2.00</td>\n",
        "    </tr>\n",
        "    <tr>\n",
        "      <th>3</th>\n",
        "      <td> 1.116406554</td>\n",
        "      <td> 1.40</td>\n",
        "      <td> 6865392</td>\n",
        "      <td>   14.00</td>\n",
        "    </tr>\n",
        "    <tr>\n",
        "      <th>4</th>\n",
        "      <td> 1.116406554</td>\n",
        "      <td> 1.48</td>\n",
        "      <td> 6865392</td>\n",
        "      <td>   41.27</td>\n",
        "    </tr>\n",
        "    <tr>\n",
        "      <th>5</th>\n",
        "      <td> 1.116406554</td>\n",
        "      <td> 1.59</td>\n",
        "      <td> 6865392</td>\n",
        "      <td>   60.75</td>\n",
        "    </tr>\n",
        "    <tr>\n",
        "      <th>6</th>\n",
        "      <td> 1.116406554</td>\n",
        "      <td> 2.06</td>\n",
        "      <td> 6865392</td>\n",
        "      <td>   56.60</td>\n",
        "    </tr>\n",
        "    <tr>\n",
        "      <th>7</th>\n",
        "      <td> 1.116406554</td>\n",
        "      <td> 3.00</td>\n",
        "      <td> 6865392</td>\n",
        "      <td>   40.00</td>\n",
        "    </tr>\n",
        "    <tr>\n",
        "      <th>8</th>\n",
        "      <td> 1.116406554</td>\n",
        "      <td> 5.00</td>\n",
        "      <td> 6865392</td>\n",
        "      <td>    9.98</td>\n",
        "    </tr>\n",
        "    <tr>\n",
        "      <th>9</th>\n",
        "      <td> 1.116406554</td>\n",
        "      <td> 6.00</td>\n",
        "      <td> 6865392</td>\n",
        "      <td>   30.00</td>\n",
        "    </tr>\n",
        "  </tbody>\n",
        "</table>\n",
        "</div>"
       ],
       "output_type": "pyout",
       "prompt_number": 89,
       "text": [
        "      marketId  price  selectionId     size\n",
        "0  1.116406554   1.01      6865392  7574.55\n",
        "1  1.116406554   1.20      6865392     4.01\n",
        "2  1.116406554   1.33      6865392     2.00\n",
        "3  1.116406554   1.40      6865392    14.00\n",
        "4  1.116406554   1.48      6865392    41.27\n",
        "5  1.116406554   1.59      6865392    60.75\n",
        "6  1.116406554   2.06      6865392    56.60\n",
        "7  1.116406554   3.00      6865392    40.00\n",
        "8  1.116406554   5.00      6865392     9.98\n",
        "9  1.116406554   6.00      6865392    30.00"
       ]
      }
     ],
     "prompt_number": 89
    },
    {
     "cell_type": "code",
     "collapsed": false,
     "input": [
      "# Show lay liabilty taken\n",
      "layLiabilityTaken=runnersPriceInFirstRace['runners.sp.layLiabilityTaken']\n",
      "layLiabilityTaken[layLiabilityTaken.selectionId==runnerIdWithMostTotalMatched]"
     ],
     "language": "python",
     "metadata": {},
     "outputs": [
      {
       "html": [
        "<div style=\"max-height:1000px;max-width:1500px;overflow:auto;\">\n",
        "<table border=\"1\" class=\"dataframe\">\n",
        "  <thead>\n",
        "    <tr style=\"text-align: right;\">\n",
        "      <th></th>\n",
        "      <th>marketId</th>\n",
        "      <th>price</th>\n",
        "      <th>selectionId</th>\n",
        "      <th>size</th>\n",
        "    </tr>\n",
        "  </thead>\n",
        "  <tbody>\n",
        "    <tr>\n",
        "      <th>0</th>\n",
        "      <td> 1.116406554</td>\n",
        "      <td> 1000.0</td>\n",
        "      <td> 6865392</td>\n",
        "      <td> 681.16</td>\n",
        "    </tr>\n",
        "    <tr>\n",
        "      <th>1</th>\n",
        "      <td> 1.116406554</td>\n",
        "      <td>    1.5</td>\n",
        "      <td> 6865392</td>\n",
        "      <td>  15.97</td>\n",
        "    </tr>\n",
        "  </tbody>\n",
        "</table>\n",
        "</div>"
       ],
       "output_type": "pyout",
       "prompt_number": 92,
       "text": [
        "      marketId   price  selectionId    size\n",
        "0  1.116406554  1000.0      6865392  681.16\n",
        "1  1.116406554     1.5      6865392   15.97"
       ]
      }
     ],
     "prompt_number": 92
    },
    {
     "cell_type": "code",
     "collapsed": false,
     "input": [
      "# Get all lay prices for all the runners in the first race\n",
      "availableToLay=runnersPriceInFirstRace['runners.ex.availableToLay']\n",
      "# Get the lay prices for the one with the most total matched\n",
      "runnerIdWithMostTotalMatchedLayPrices=availableToLay[availableToLay.selectionId == runnerIdWithMostTotalMatched]\n",
      "# Rename to TotalAvailableToLay\n",
      "runnerIdWithMostTotalMatchedLayPrices=runnerIdWithMostTotalMatchedLayPrices.rename(columns={'size': 'TotalAvailableToLay'})"
     ],
     "language": "python",
     "metadata": {},
     "outputs": [],
     "prompt_number": 79
    },
    {
     "cell_type": "code",
     "collapsed": false,
     "input": [
      "runnerIdWithMostTotalMatchedLayPrices"
     ],
     "language": "python",
     "metadata": {},
     "outputs": [
      {
       "html": [
        "<div style=\"max-height:1000px;max-width:1500px;overflow:auto;\">\n",
        "<table border=\"1\" class=\"dataframe\">\n",
        "  <thead>\n",
        "    <tr style=\"text-align: right;\">\n",
        "      <th></th>\n",
        "      <th>marketId</th>\n",
        "      <th>price</th>\n",
        "      <th>selectionId</th>\n",
        "      <th>TotalAvailableToLay</th>\n",
        "    </tr>\n",
        "  </thead>\n",
        "  <tbody>\n",
        "    <tr>\n",
        "      <th>0</th>\n",
        "      <td> 1.116406554</td>\n",
        "      <td> 1.22</td>\n",
        "      <td> 6865392</td>\n",
        "      <td>  123.12</td>\n",
        "    </tr>\n",
        "    <tr>\n",
        "      <th>1</th>\n",
        "      <td> 1.116406554</td>\n",
        "      <td> 1.23</td>\n",
        "      <td> 6865392</td>\n",
        "      <td> 5615.98</td>\n",
        "    </tr>\n",
        "  </tbody>\n",
        "</table>\n",
        "</div>"
       ],
       "output_type": "pyout",
       "prompt_number": 118,
       "text": [
        "      marketId  price  selectionId  TotalAvailableToLay\n",
        "0  1.116406554   1.22      6865392               123.12\n",
        "1  1.116406554   1.23      6865392              5615.98"
       ]
      }
     ],
     "prompt_number": 118
    },
    {
     "cell_type": "code",
     "collapsed": false,
     "input": [
      "# Get all back prices for all the runners in the first race\n",
      "availableToBack=runnersPriceInFirstRace['runners.ex.availableToBack']\n",
      "# Get the back prices for the one with the most total matched\n",
      "runnerIdWithMostTotalMatchedBackPrices=availableToBack[availableToBack.selectionId == runnerIdWithMostTotalMatched]\n",
      "# Rename to TotalAvailableToBack\n",
      "runnerIdWithMostTotalMatchedBackPrices=runnerIdWithMostTotalMatchedBackPrices.rename(columns={'size': 'TotalAvailableToBack'})"
     ],
     "language": "python",
     "metadata": {},
     "outputs": [],
     "prompt_number": 77
    },
    {
     "cell_type": "code",
     "collapsed": false,
     "input": [
      "runnerIdWithMostTotalMatchedBackPrices"
     ],
     "language": "python",
     "metadata": {},
     "outputs": [
      {
       "html": [
        "<div style=\"max-height:1000px;max-width:1500px;overflow:auto;\">\n",
        "<table border=\"1\" class=\"dataframe\">\n",
        "  <thead>\n",
        "    <tr style=\"text-align: right;\">\n",
        "      <th></th>\n",
        "      <th>marketId</th>\n",
        "      <th>price</th>\n",
        "      <th>selectionId</th>\n",
        "      <th>TotalAvailableToBack</th>\n",
        "    </tr>\n",
        "  </thead>\n",
        "  <tbody>\n",
        "    <tr>\n",
        "      <th>0</th>\n",
        "      <td> 1.116406554</td>\n",
        "      <td> 1.21</td>\n",
        "      <td> 6865392</td>\n",
        "      <td>  5471.57</td>\n",
        "    </tr>\n",
        "    <tr>\n",
        "      <th>1</th>\n",
        "      <td> 1.116406554</td>\n",
        "      <td> 1.20</td>\n",
        "      <td> 6865392</td>\n",
        "      <td> 10690.61</td>\n",
        "    </tr>\n",
        "  </tbody>\n",
        "</table>\n",
        "</div>"
       ],
       "output_type": "pyout",
       "prompt_number": 78,
       "text": [
        "      marketId  price  selectionId  TotalAvailableToBack\n",
        "0  1.116406554   1.21      6865392               5471.57\n",
        "1  1.116406554   1.20      6865392              10690.61"
       ]
      }
     ],
     "prompt_number": 78
    },
    {
     "cell_type": "code",
     "collapsed": false,
     "input": [
      "# Merge the prices by appending to make a price ladder\n",
      "priceLadder=runnerIdWithMostTotalMatchedBackPrices.append(runnerIdWithMostTotalMatchedLayPrices)[['price','TotalAvailableToBack','TotalAvailableToLay']].sort('price')\n",
      "priceLadder"
     ],
     "language": "python",
     "metadata": {},
     "outputs": [
      {
       "html": [
        "<div style=\"max-height:1000px;max-width:1500px;overflow:auto;\">\n",
        "<table border=\"1\" class=\"dataframe\">\n",
        "  <thead>\n",
        "    <tr style=\"text-align: right;\">\n",
        "      <th></th>\n",
        "      <th>price</th>\n",
        "      <th>TotalAvailableToBack</th>\n",
        "      <th>TotalAvailableToLay</th>\n",
        "    </tr>\n",
        "  </thead>\n",
        "  <tbody>\n",
        "    <tr>\n",
        "      <th>1</th>\n",
        "      <td> 1.20</td>\n",
        "      <td> 10690.61</td>\n",
        "      <td>     NaN</td>\n",
        "    </tr>\n",
        "    <tr>\n",
        "      <th>0</th>\n",
        "      <td> 1.21</td>\n",
        "      <td>  5471.57</td>\n",
        "      <td>     NaN</td>\n",
        "    </tr>\n",
        "    <tr>\n",
        "      <th>0</th>\n",
        "      <td> 1.22</td>\n",
        "      <td>      NaN</td>\n",
        "      <td>  123.12</td>\n",
        "    </tr>\n",
        "    <tr>\n",
        "      <th>1</th>\n",
        "      <td> 1.23</td>\n",
        "      <td>      NaN</td>\n",
        "      <td> 5615.98</td>\n",
        "    </tr>\n",
        "  </tbody>\n",
        "</table>\n",
        "</div>"
       ],
       "output_type": "pyout",
       "prompt_number": 93,
       "text": [
        "   price  TotalAvailableToBack  TotalAvailableToLay\n",
        "1   1.20              10690.61                  NaN\n",
        "0   1.21               5471.57                  NaN\n",
        "0   1.22                   NaN               123.12\n",
        "1   1.23                   NaN              5615.98"
       ]
      }
     ],
     "prompt_number": 93
    },
    {
     "cell_type": "code",
     "collapsed": false,
     "input": [
      "client.logout()"
     ],
     "language": "python",
     "metadata": {},
     "outputs": [],
     "prompt_number": 130
    }
   ],
   "metadata": {}
  }
 ]
}