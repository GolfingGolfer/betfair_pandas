{
 "metadata": {
  "name": "sample1"
 },
 "nbformat": 3,
 "nbformat_minor": 0,
 "worksheets": [
  {
   "cells": [
    {
     "cell_type": "code",
     "collapsed": false,
     "input": [
      "from betfair.models import MarketFilter\n",
      "from betfair import Betfair"
     ],
     "language": "python",
     "metadata": {},
     "outputs": [],
     "prompt_number": 1
    },
    {
     "cell_type": "code",
     "collapsed": false,
     "input": [
      "import betfair_pandas as bp\n",
      "import datetime"
     ],
     "language": "python",
     "metadata": {},
     "outputs": [],
     "prompt_number": 11
    },
    {
     "cell_type": "code",
     "collapsed": false,
     "input": [
      "# ssologin\n",
      "client=Betfair(app_key,cert_file)\n",
      "client.login(username,password)"
     ],
     "language": "python",
     "metadata": {},
     "outputs": []
    },
    {
     "cell_type": "code",
     "collapsed": false,
     "input": [
      "# List horse racing event ids\n",
      "event_types=bp.list_event_types(client,filter={'textQuery':\"Horse Racing\"})"
     ],
     "language": "python",
     "metadata": {},
     "outputs": [],
     "prompt_number": 64
    },
    {
     "cell_type": "code",
     "collapsed": false,
     "input": [
      "country_code='GB'\n",
      "marketFilter={'eventTypeIds':[event_types.id[0]],\n",
      "              'marketCountries':[country_code],\n",
      "              'marketTypeCodes':[\"WIN\"],\n",
      "              'marketStartTime':{'from':datetime.datetime.now()}}"
     ],
     "language": "python",
     "metadata": {},
     "outputs": [],
     "prompt_number": 35
    },
    {
     "cell_type": "code",
     "collapsed": false,
     "input": [
      "# First 5 horse races, win market, from now\n",
      "races=bp.list_market_catalogue(client,\n",
      "  filter=marketFilter,\n",
      "  market_projection=['COMPETITION','EVENT','EVENT_TYPE','MARKET_DESCRIPTION','RUNNER_DESCRIPTION','MARKET_START_TIME'],\n",
      "  sort=\"FIRST_TO_START\",\n",
      "  max_results=5\n",
      ")"
     ],
     "language": "python",
     "metadata": {},
     "outputs": [],
     "prompt_number": 33
    },
    {
     "cell_type": "code",
     "collapsed": false,
     "input": [
      "# First race\n",
      "marketId=races['description'].marketId[0]"
     ],
     "language": "python",
     "metadata": {},
     "outputs": [],
     "prompt_number": 40
    },
    {
     "cell_type": "code",
     "collapsed": false,
     "input": [
      "# All exchange and starting prices to a depth of 2 max price of 20\n",
      "projection={'priceData':['EX_ALL_OFFERS','SP_AVAILABLE','SP_TRADED','EX_TRADED'],\n",
      "            'virtualise':False,\n",
      "            'exBestOffersOverrides':{'bestPricesDepth':2L,\n",
      "                                     'rollupModel':\"STAKE\",\n",
      "                                     'rollupLimit':20L},\n",
      "            'rolloverStakes':False\n",
      " }"
     ],
     "language": "python",
     "metadata": {},
     "outputs": [],
     "prompt_number": 41
    },
    {
     "cell_type": "code",
     "collapsed": false,
     "input": [
      "# Get all the runners/prices book for this market\n",
      "# According to the projections\n",
      "runnersPriceInFirstRace=bp.list_market_book(client,\n",
      "  market_ids=[marketId],\n",
      "  price_projection=projection,\n",
      "  order_projection='ALL',\n",
      "  match_projection='ROLLED_UP_BY_PRICE'\n",
      ")"
     ],
     "language": "python",
     "metadata": {},
     "outputs": [],
     "prompt_number": 43
    },
    {
     "cell_type": "code",
     "collapsed": false,
     "input": [
      "runnersPriceInFirstRace['market.book'][['marketId','lastMatchTime','totalAvailable','totalMatched','numberOfActiveRunners']]"
     ],
     "language": "python",
     "metadata": {},
     "outputs": [
      {
       "html": [
        "<div style=\"max-height:1000px;max-width:1500px;overflow:auto;\">\n",
        "<table border=\"1\" class=\"dataframe\">\n",
        "  <thead>\n",
        "    <tr style=\"text-align: right;\">\n",
        "      <th></th>\n",
        "      <th>marketId</th>\n",
        "      <th>lastMatchTime</th>\n",
        "      <th>totalAvailable</th>\n",
        "      <th>totalMatched</th>\n",
        "      <th>numberOfActiveRunners</th>\n",
        "    </tr>\n",
        "  </thead>\n",
        "  <tbody>\n",
        "    <tr>\n",
        "      <th>0</th>\n",
        "      <td> 1.116406571</td>\n",
        "      <td> 2014-11-16T16:55:08.208Z</td>\n",
        "      <td> 33554.1</td>\n",
        "      <td> 15.09</td>\n",
        "      <td> 9</td>\n",
        "    </tr>\n",
        "  </tbody>\n",
        "</table>\n",
        "</div>"
       ],
       "output_type": "pyout",
       "prompt_number": 55,
       "text": [
        "      marketId             lastMatchTime  totalAvailable  totalMatched  \\\n",
        "0  1.116406571  2014-11-16T16:55:08.208Z         33554.1         15.09   \n",
        "\n",
        "   numberOfActiveRunners  \n",
        "0                      9  "
       ]
      }
     ],
     "prompt_number": 55
    },
    {
     "cell_type": "code",
     "collapsed": false,
     "input": [
      "runnerIdWithMostTotalMatched=runnersPriceInFirstRace['runners'].sorted('totalMatched').iloc[0,'selectionId']"
     ],
     "language": "python",
     "metadata": {},
     "outputs": [
      {
       "ename": "NameError",
       "evalue": "name 'runnersPriceInFirstRace' is not defined",
       "output_type": "pyerr",
       "traceback": [
        "\u001b[1;31m---------------------------------------------------------------------------\u001b[0m\n\u001b[1;31mNameError\u001b[0m                                 Traceback (most recent call last)",
        "\u001b[1;32m<ipython-input-1-8f14d403879a>\u001b[0m in \u001b[0;36m<module>\u001b[1;34m()\u001b[0m\n\u001b[1;32m----> 1\u001b[1;33m \u001b[0mrunnersPriceInFirstRace\u001b[0m\u001b[1;33m[\u001b[0m\u001b[1;34m'runners'\u001b[0m\u001b[1;33m]\u001b[0m\u001b[1;33m.\u001b[0m\u001b[0msorted\u001b[0m\u001b[1;33m(\u001b[0m\u001b[1;34m'totalMatched'\u001b[0m\u001b[1;33m)\u001b[0m\u001b[1;33m\u001b[0m\u001b[0m\n\u001b[0m",
        "\u001b[1;31mNameError\u001b[0m: name 'runnersPriceInFirstRace' is not defined"
       ]
      }
     ],
     "prompt_number": 1
    },
    {
     "cell_type": "code",
     "collapsed": false,
     "input": [
      "availableToLay=runnersPriceInFirstRace['runners.ex.availableToLay']\n",
      "availableToLay[availableToLay.selectionId == runnerIdWithMostTotalMatched]\n"
     ],
     "language": "python",
     "metadata": {},
     "outputs": [
      {
       "html": [
        "<div style=\"max-height:1000px;max-width:1500px;overflow:auto;\">\n",
        "<table border=\"1\" class=\"dataframe\">\n",
        "  <thead>\n",
        "    <tr style=\"text-align: right;\">\n",
        "      <th></th>\n",
        "      <th>marketId</th>\n",
        "      <th>price</th>\n",
        "      <th>selectionId</th>\n",
        "      <th>size</th>\n",
        "    </tr>\n",
        "  </thead>\n",
        "  <tbody>\n",
        "    <tr>\n",
        "      <th>5 </th>\n",
        "      <td> 1.116406571</td>\n",
        "      <td>    3.10</td>\n",
        "      <td> 8040007</td>\n",
        "      <td>  0.45</td>\n",
        "    </tr>\n",
        "    <tr>\n",
        "      <th>6 </th>\n",
        "      <td> 1.116406571</td>\n",
        "      <td>    3.35</td>\n",
        "      <td> 8040007</td>\n",
        "      <td>  2.00</td>\n",
        "    </tr>\n",
        "    <tr>\n",
        "      <th>7 </th>\n",
        "      <td> 1.116406571</td>\n",
        "      <td>    8.20</td>\n",
        "      <td> 8040007</td>\n",
        "      <td> 15.00</td>\n",
        "    </tr>\n",
        "    <tr>\n",
        "      <th>8 </th>\n",
        "      <td> 1.116406571</td>\n",
        "      <td>  690.00</td>\n",
        "      <td> 8040007</td>\n",
        "      <td>  0.17</td>\n",
        "    </tr>\n",
        "    <tr>\n",
        "      <th>9 </th>\n",
        "      <td> 1.116406571</td>\n",
        "      <td>  700.00</td>\n",
        "      <td> 8040007</td>\n",
        "      <td>  0.08</td>\n",
        "    </tr>\n",
        "    <tr>\n",
        "      <th>10</th>\n",
        "      <td> 1.116406571</td>\n",
        "      <td> 1000.00</td>\n",
        "      <td> 8040007</td>\n",
        "      <td>  1.59</td>\n",
        "    </tr>\n",
        "  </tbody>\n",
        "</table>\n",
        "</div>"
       ],
       "output_type": "pyout",
       "prompt_number": 68,
       "text": [
        "       marketId    price  selectionId   size\n",
        "5   1.116406571     3.10      8040007   0.45\n",
        "6   1.116406571     3.35      8040007   2.00\n",
        "7   1.116406571     8.20      8040007  15.00\n",
        "8   1.116406571   690.00      8040007   0.17\n",
        "9   1.116406571   700.00      8040007   0.08\n",
        "10  1.116406571  1000.00      8040007   1.59"
       ]
      }
     ],
     "prompt_number": 68
    },
    {
     "cell_type": "code",
     "collapsed": false,
     "input": [
      "availableToBack=runnersPriceInFirstRace['runners.ex.availableToBack']\n",
      "availableToBack[availableToBack.selectionId == runnerIdWithMostTotalMatched]\n"
     ],
     "language": "python",
     "metadata": {},
     "outputs": [
      {
       "html": [
        "<div style=\"max-height:1000px;max-width:1500px;overflow:auto;\">\n",
        "<table border=\"1\" class=\"dataframe\">\n",
        "  <thead>\n",
        "    <tr style=\"text-align: right;\">\n",
        "      <th></th>\n",
        "      <th>marketId</th>\n",
        "      <th>price</th>\n",
        "      <th>selectionId</th>\n",
        "      <th>size</th>\n",
        "    </tr>\n",
        "  </thead>\n",
        "  <tbody>\n",
        "    <tr>\n",
        "      <th>14</th>\n",
        "      <td> 1.116406571</td>\n",
        "      <td> 2.86</td>\n",
        "      <td> 8040007</td>\n",
        "      <td>    0.75</td>\n",
        "    </tr>\n",
        "    <tr>\n",
        "      <th>15</th>\n",
        "      <td> 1.116406571</td>\n",
        "      <td> 2.84</td>\n",
        "      <td> 8040007</td>\n",
        "      <td>    0.20</td>\n",
        "    </tr>\n",
        "    <tr>\n",
        "      <th>16</th>\n",
        "      <td> 1.116406571</td>\n",
        "      <td> 2.80</td>\n",
        "      <td> 8040007</td>\n",
        "      <td>    3.93</td>\n",
        "    </tr>\n",
        "    <tr>\n",
        "      <th>17</th>\n",
        "      <td> 1.116406571</td>\n",
        "      <td> 2.78</td>\n",
        "      <td> 8040007</td>\n",
        "      <td>    0.20</td>\n",
        "    </tr>\n",
        "    <tr>\n",
        "      <th>18</th>\n",
        "      <td> 1.116406571</td>\n",
        "      <td> 2.22</td>\n",
        "      <td> 8040007</td>\n",
        "      <td>   22.89</td>\n",
        "    </tr>\n",
        "    <tr>\n",
        "      <th>19</th>\n",
        "      <td> 1.116406571</td>\n",
        "      <td> 2.20</td>\n",
        "      <td> 8040007</td>\n",
        "      <td>  150.00</td>\n",
        "    </tr>\n",
        "    <tr>\n",
        "      <th>20</th>\n",
        "      <td> 1.116406571</td>\n",
        "      <td> 1.73</td>\n",
        "      <td> 8040007</td>\n",
        "      <td>  641.10</td>\n",
        "    </tr>\n",
        "    <tr>\n",
        "      <th>21</th>\n",
        "      <td> 1.116406571</td>\n",
        "      <td> 1.13</td>\n",
        "      <td> 8040007</td>\n",
        "      <td>    2.00</td>\n",
        "    </tr>\n",
        "    <tr>\n",
        "      <th>22</th>\n",
        "      <td> 1.116406571</td>\n",
        "      <td> 1.07</td>\n",
        "      <td> 8040007</td>\n",
        "      <td>  142.86</td>\n",
        "    </tr>\n",
        "    <tr>\n",
        "      <th>23</th>\n",
        "      <td> 1.116406571</td>\n",
        "      <td> 1.01</td>\n",
        "      <td> 8040007</td>\n",
        "      <td> 3106.50</td>\n",
        "    </tr>\n",
        "  </tbody>\n",
        "</table>\n",
        "</div>"
       ],
       "output_type": "pyout",
       "prompt_number": 69,
       "text": [
        "       marketId  price  selectionId     size\n",
        "14  1.116406571   2.86      8040007     0.75\n",
        "15  1.116406571   2.84      8040007     0.20\n",
        "16  1.116406571   2.80      8040007     3.93\n",
        "17  1.116406571   2.78      8040007     0.20\n",
        "18  1.116406571   2.22      8040007    22.89\n",
        "19  1.116406571   2.20      8040007   150.00\n",
        "20  1.116406571   1.73      8040007   641.10\n",
        "21  1.116406571   1.13      8040007     2.00\n",
        "22  1.116406571   1.07      8040007   142.86\n",
        "23  1.116406571   1.01      8040007  3106.50"
       ]
      }
     ],
     "prompt_number": 69
    },
    {
     "cell_type": "code",
     "collapsed": false,
     "input": [
      "client.logout()"
     ],
     "language": "python",
     "metadata": {},
     "outputs": [],
     "prompt_number": 65
    }
   ],
   "metadata": {}
  }
 ]
}